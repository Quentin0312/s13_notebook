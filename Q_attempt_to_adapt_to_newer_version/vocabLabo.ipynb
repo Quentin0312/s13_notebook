{
 "cells": [
  {
   "cell_type": "code",
   "execution_count": 1,
   "metadata": {},
   "outputs": [
    {
     "name": "stdout",
     "output_type": "stream",
     "text": [
      "sorted_by_freq_tuples [('b', 3), ('a', 2)]\n",
      "ordered_dict OrderedDict([('b', 3), ('a', 2)])\n",
      "v1(a) => 1\n",
      "0\n",
      "-1\n"
     ]
    },
    {
     "data": {
      "text/plain": [
       "True"
      ]
     },
     "execution_count": 1,
     "metadata": {},
     "output_type": "execute_result"
    }
   ],
   "source": [
    "from torchtext.vocab import vocab\n",
    "from collections import Counter, OrderedDict\n",
    "\n",
    "counter = Counter([\"a\", \"a\", \"b\", \"b\", \"b\"])\n",
    "sorted_by_freq_tuples = sorted(counter.items(), key=lambda x: x[1], reverse=True)\n",
    "print(\"sorted_by_freq_tuples\", sorted_by_freq_tuples)\n",
    "\n",
    "ordered_dict = OrderedDict(sorted_by_freq_tuples)\n",
    "print(\"ordered_dict\", ordered_dict)\n",
    "\n",
    "v1 = vocab(ordered_dict)\n",
    "print(\"v1(a) =>\", v1['a']) #prints 1\n",
    "# print(v1['out of vocab']) #raise RuntimeError since default index is not set\n",
    "tokens = ['e', 'd', 'c', 'b', 'a']\n",
    "#adding <unk> token and default index\n",
    "unk_token = '<unk>'\n",
    "default_index = -1\n",
    "v2 = vocab(OrderedDict([(token, 1) for token in tokens]), specials=[unk_token])\n",
    "v2.set_default_index(default_index)\n",
    "print(v2['<unk>']) #prints 0\n",
    "print(v2['out of vocab']) #prints -1\n",
    "#make default index same as index of unk_token\n",
    "v2.set_default_index(v2[unk_token])\n",
    "v2['out of vocab'] is v2[unk_token] #prints True"
   ]
  },
  {
   "cell_type": "code",
   "execution_count": 2,
   "metadata": {},
   "outputs": [],
   "source": [
    "from torchtext.vocab import vocab\n",
    "from collections import Counter, OrderedDict\n",
    "\n",
    "# tokens => string[]\n",
    "def create_vocab(tokens):\n",
    "    unk_token = '<unk>'\n",
    "    v2 = vocab(OrderedDict([(token, 1) for token in tokens]), specials=[unk_token])\n",
    "\n",
    "    #make default index same as index of unk_token\n",
    "    v2.set_default_index(v2[unk_token])\n",
    "\n",
    "    return v2"
   ]
  },
  {
   "cell_type": "code",
   "execution_count": 3,
   "metadata": {},
   "outputs": [
    {
     "name": "stdout",
     "output_type": "stream",
     "text": [
      "1\n"
     ]
    }
   ],
   "source": []
  },
  {
   "cell_type": "code",
   "execution_count": 6,
   "metadata": {},
   "outputs": [
    {
     "name": "stdout",
     "output_type": "stream",
     "text": [
      "0\n"
     ]
    }
   ],
   "source": [
    "\n"
   ]
  }
 ],
 "metadata": {
  "kernelspec": {
   "display_name": ".env",
   "language": "python",
   "name": "python3"
  },
  "language_info": {
   "codemirror_mode": {
    "name": "ipython",
    "version": 3
   },
   "file_extension": ".py",
   "mimetype": "text/x-python",
   "name": "python",
   "nbconvert_exporter": "python",
   "pygments_lexer": "ipython3",
   "version": "3.11.5"
  }
 },
 "nbformat": 4,
 "nbformat_minor": 2
}
