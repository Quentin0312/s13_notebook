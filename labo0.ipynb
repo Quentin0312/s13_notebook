{
 "cells": [
  {
   "cell_type": "markdown",
   "metadata": {},
   "source": [
    "# 1. Preparing data"
   ]
  },
  {
   "cell_type": "code",
   "execution_count": 1,
   "metadata": {},
   "outputs": [
    {
     "name": "stderr",
     "output_type": "stream",
     "text": [
      "/home/payetquentin/Documents/workspace/briefs/s13_notebook/.env/lib/python3.11/site-packages/torch/cuda/__init__.py:611: UserWarning: Can't initialize NVML\n",
      "  warnings.warn(\"Can't initialize NVML\")\n",
      "/home/payetquentin/Documents/workspace/briefs/s13_notebook/.env/lib/python3.11/site-packages/torch/cuda/__init__.py:740: UserWarning: CUDA initialization: Unexpected error from cudaGetDeviceCount(). Did you run some cuda functions before calling NumCudaDevices() that might have already set an error? Error 804: forward compatibility was attempted on non supported HW (Triggered internally at ../c10/cuda/CUDAFunctions.cpp:108.)\n",
      "  return torch._C._cuda_getDeviceCount() if nvml_count < 0 else nvml_count\n"
     ]
    }
   ],
   "source": [
    "import torch\n",
    "from functools import partial\n",
    "from torch.utils.data import DataLoader\n",
    "from torchtext.datasets import IMDB\n",
    "from preprocessing import get_total_tokens_from_files, create_vocab, get_total_tokens, save_total_tokens"
   ]
  },
  {
   "cell_type": "code",
   "execution_count": 2,
   "metadata": {},
   "outputs": [
    {
     "data": {
      "text/plain": [
       "<torch._C.Generator at 0x7f1f98fc7c10>"
      ]
     },
     "execution_count": 2,
     "metadata": {},
     "output_type": "execute_result"
    }
   ],
   "source": [
    "SEED = 1234\n",
    "torch.manual_seed(1234)"
   ]
  },
  {
   "cell_type": "code",
   "execution_count": 3,
   "metadata": {},
   "outputs": [
    {
     "name": "stdout",
     "output_type": "stream",
     "text": [
      "<torch.utils.data.dataloader.DataLoader object at 0x7f1eab500490>\n"
     ]
    }
   ],
   "source": [
    "def apply_prefix(task, x):\n",
    "    return f\"{task}: \" + x[0], x[1]\n",
    "\n",
    "def process_labels(labels, x):\n",
    "    return x[1], labels[str(x[0])]\n",
    "\n",
    "imdb_batch_size = 3\n",
    "task = \"sst2 sentence\"\n",
    "labels = {\"1\": \"negative\", \"2\": \"positive\"}\n",
    "\n",
    "# Test set\n",
    "imdb_datapipe_test = IMDB(split=\"test\")\n",
    "imdb_datapipe_test = imdb_datapipe_test.map(partial(process_labels, labels))\n",
    "imdb_datapipe_test = imdb_datapipe_test.map(partial(apply_prefix, task))\n",
    "imdb_datapipe_test = imdb_datapipe_test.batch(imdb_batch_size)\n",
    "imdb_datapipe_test = imdb_datapipe_test.rows2columnar([\"text\", \"label\"])\n",
    "imdb_dataloader_test = DataLoader(imdb_datapipe_test, batch_size=None)\n",
    "\n",
    "# Train set\n",
    "imdb_datapipe_train = IMDB(split=\"train\")\n",
    "imdb_datapipe_train = imdb_datapipe_train.map(partial(process_labels, labels))\n",
    "imdb_datapipe_train = imdb_datapipe_train.map(partial(apply_prefix, task))\n",
    "imdb_datapipe_train = imdb_datapipe_train.batch(imdb_batch_size)\n",
    "imdb_datapipe_train = imdb_datapipe_train.rows2columnar([\"text\", \"label\"])\n",
    "imdb_dataloader_train = DataLoader(imdb_datapipe_train, batch_size=None)\n",
    "\n",
    "print(imdb_dataloader_train)\n",
    "# for batch in imdb_dataloader:\n",
    "#     print(batch[\"label\"])"
   ]
  },
  {
   "cell_type": "code",
   "execution_count": 4,
   "metadata": {},
   "outputs": [],
   "source": [
    "# ! Do not delete !\n",
    "\n",
    "# total_tokens = get_total_tokens(imdb_dataloader_test, imdb_dataloader_train)\n",
    "# save_total_tokens(total_tokens)\n",
    "\n",
    "total_tokens = get_total_tokens_from_files()"
   ]
  },
  {
   "cell_type": "code",
   "execution_count": 5,
   "metadata": {},
   "outputs": [],
   "source": [
    "# ! One hot encode instead ?\n",
    "vocab = create_vocab(total_tokens)"
   ]
  }
 ],
 "metadata": {
  "kernelspec": {
   "display_name": ".env",
   "language": "python",
   "name": "python3"
  },
  "language_info": {
   "codemirror_mode": {
    "name": "ipython",
    "version": 3
   },
   "file_extension": ".py",
   "mimetype": "text/x-python",
   "name": "python",
   "nbconvert_exporter": "python",
   "pygments_lexer": "ipython3",
   "version": "3.11.5"
  }
 },
 "nbformat": 4,
 "nbformat_minor": 2
}
