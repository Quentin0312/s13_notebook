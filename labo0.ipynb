{
 "cells": [
  {
   "cell_type": "markdown",
   "metadata": {},
   "source": [
    "# 1. Preparing data"
   ]
  },
  {
   "cell_type": "code",
   "execution_count": 1,
   "metadata": {},
   "outputs": [
    {
     "name": "stderr",
     "output_type": "stream",
     "text": [
      "/home/payetquentin/Documents/workspace/briefs/s13_notebook/.env/lib/python3.11/site-packages/torch/cuda/__init__.py:611: UserWarning: Can't initialize NVML\n",
      "  warnings.warn(\"Can't initialize NVML\")\n",
      "/home/payetquentin/Documents/workspace/briefs/s13_notebook/.env/lib/python3.11/site-packages/torch/cuda/__init__.py:740: UserWarning: CUDA initialization: Unexpected error from cudaGetDeviceCount(). Did you run some cuda functions before calling NumCudaDevices() that might have already set an error? Error 804: forward compatibility was attempted on non supported HW (Triggered internally at ../c10/cuda/CUDAFunctions.cpp:108.)\n",
      "  return torch._C._cuda_getDeviceCount() if nvml_count < 0 else nvml_count\n"
     ]
    }
   ],
   "source": [
    "import torch\n",
    "import spacy\n",
    "from functools import partial\n",
    "from collections import Counter\n",
    "from torch.utils.data import DataLoader, Dataset\n",
    "from torchtext.datasets import IMDB\n",
    "from torchtext.vocab import vocab"
   ]
  },
  {
   "cell_type": "code",
   "execution_count": 2,
   "metadata": {},
   "outputs": [
    {
     "data": {
      "text/plain": [
       "<torch._C.Generator at 0x7f2449fbfbf0>"
      ]
     },
     "execution_count": 2,
     "metadata": {},
     "output_type": "execute_result"
    }
   ],
   "source": [
    "SEED = 1234\n",
    "torch.manual_seed(1234)"
   ]
  },
  {
   "cell_type": "code",
   "execution_count": 3,
   "metadata": {},
   "outputs": [
    {
     "name": "stdout",
     "output_type": "stream",
     "text": [
      "<torch.utils.data.dataloader.DataLoader object at 0x7f23620bac10>\n"
     ]
    }
   ],
   "source": [
    "def apply_prefix(task, x):\n",
    "    return f\"{task}: \" + x[0], x[1]\n",
    "\n",
    "def process_labels(labels, x):\n",
    "    return x[1], labels[str(x[0])]\n",
    "\n",
    "imdb_batch_size = 3\n",
    "task = \"sst2 sentence\"\n",
    "labels = {\"1\": \"negative\", \"2\": \"positive\"}\n",
    "\n",
    "# Test set\n",
    "imdb_datapipe_test = IMDB(split=\"test\")\n",
    "imdb_datapipe_test = imdb_datapipe_test.map(partial(process_labels, labels))\n",
    "imdb_datapipe_test = imdb_datapipe_test.map(partial(apply_prefix, task))\n",
    "imdb_datapipe_test = imdb_datapipe_test.batch(imdb_batch_size)\n",
    "imdb_datapipe_test = imdb_datapipe_test.rows2columnar([\"text\", \"label\"])\n",
    "imdb_dataloader_test = DataLoader(imdb_datapipe_test, batch_size=None)\n",
    "\n",
    "# Train set\n",
    "imdb_datapipe_train = IMDB(split=\"train\")\n",
    "imdb_datapipe_train = imdb_datapipe_train.map(partial(process_labels, labels))\n",
    "imdb_datapipe_train = imdb_datapipe_train.map(partial(apply_prefix, task))\n",
    "imdb_datapipe_train = imdb_datapipe_train.batch(imdb_batch_size)\n",
    "imdb_datapipe_train = imdb_datapipe_train.rows2columnar([\"text\", \"label\"])\n",
    "imdb_dataloader_train = DataLoader(imdb_datapipe_train, batch_size=None)\n",
    "\n",
    "print(imdb_dataloader_train)\n",
    "# for batch in imdb_dataloader:\n",
    "#     print(batch[\"label\"])"
   ]
  },
  {
   "cell_type": "code",
   "execution_count": 4,
   "metadata": {},
   "outputs": [],
   "source": [
    "nlp = spacy.load(\"fr_core_news_md\")\n",
    "\n",
    "def tokenize(text):\n",
    "    # Use spaCy to tokenize the text\n",
    "    tokens = [token.text for token in nlp(text)]\n",
    "    return tokens"
   ]
  },
  {
   "cell_type": "code",
   "execution_count": 5,
   "metadata": {},
   "outputs": [
    {
     "name": "stdout",
     "output_type": "stream",
     "text": [
      "I rented I AM CURIOUS-YELLOW from my video store because of all the controversy that surrounded it when it was first released in 1967. I also heard that at first it was seized by U.S. customs if it ever tried to enter this country, therefore being a fan of films considered \"controversial\" I really had to see this for myself.<br /><br />The plot is centered around a young Swedish drama student named Lena who wants to learn everything she can about life. In particular she wants to focus her attentions to making some sort of documentary on what the average Swede thought about certain political issues such as the Vietnam War and race issues in the United States. In between asking politicians and ordinary denizens of Stockholm about their opinions on politics, she has sex with her drama teacher, classmates, and married men.<br /><br />What kills me about I AM CURIOUS-YELLOW is that 40 years ago, this was considered pornographic. Really, the sex and nudity scenes are few and far between, even then it's not shot like some cheaply made porno. While my countrymen mind find it shocking, in reality sex and nudity are a major staple in Swedish cinema. Even Ingmar Bergman, arguably their answer to good old boy John Ford, had sex scenes in his films.<br /><br />I do commend the filmmakers for the fact that any sex shown in the film is shown for artistic purposes rather than just to shock people and make money to be shown in pornographic theaters in America. I AM CURIOUS-YELLOW is a good film for anyone wanting to study the meat and potatoes (no pun intended) of Swedish cinema. But really, this film doesn't have much of a plot.\n",
      "['I', 'rented', 'I', 'AM', 'CURIOUS', '-', 'YELLOW', 'from', 'my', 'video', 'store', 'because', 'of', 'all', 'the', 'controversy', 'that', 'surrounded', 'it', 'when', 'it', 'was', 'first', 'released', 'in', '1967', '.', 'I', 'also', 'heard', 'that', 'at', 'first', 'it', 'was', 'seized', 'by', 'U.S.', 'customs', 'if', 'it', 'ever', 'tried', 'to', 'enter', 'this', 'country', ',', 'therefore', 'being', 'a', 'fan', 'of', 'films', 'considered', '\"', 'controversial', '\"', 'I', 'really', 'had', 'to', 'see', 'this', 'for', 'myself.<br', '/><br', '/>The', 'plot', 'is', 'centered', 'around', 'a', 'young', 'Swedish', 'drama', 'student', 'named', 'Lena', 'who', 'wants', 'to', 'learn', 'everything', 'she', 'can', 'about', 'life', '.', 'In', 'particular', 'she', 'wants', 'to', 'focus', 'her', 'attentions', 'to', 'making', 'some', 'sort', 'of', 'documentary', 'on', 'what', 'the', 'average', 'Swede', 'thought', 'about', 'certain', 'political', 'issues', 'such', 'as', 'the', 'Vietnam', 'War', 'and', 'race', 'issues', 'in', 'the', 'United', 'States', '.', 'In', 'between', 'asking', 'politicians', 'and', 'ordinary', 'denizens', 'of', 'Stockholm', 'about', 'their', 'opinions', 'on', 'politics', ',', 'she', 'has', 'sex', 'with', 'her', 'drama', 'teacher', ',', 'classmates', ',', 'and', 'married', 'men.<br', '/><br', '/>What', 'kills', 'me', 'about', 'I', 'AM', 'CURIOUS', '-', 'YELLOW', 'is', 'that', '40', 'years', 'ago', ',', 'this', 'was', 'considered', 'pornographic', '.', 'Really', ',', 'the', 'sex', 'and', 'nudity', 'scenes', 'are', 'few', 'and', 'far', 'between', ',', 'even', 'then', \"it'\", 's', 'not', 'shot', 'like', 'some', 'cheaply', 'made', 'porno', '.', 'While', 'my', 'countrymen', 'mind', 'find', 'it', 'shocking', ',', 'in', 'reality', 'sex', 'and', 'nudity', 'are', 'a', 'major', 'staple', 'in', 'Swedish', 'cinema', '.', 'Even', 'Ingmar', 'Bergman', ',', 'arguably', 'their', 'answer', 'to', 'good', 'old', 'boy', 'John', 'Ford', ',', 'had', 'sex', 'scenes', 'in', 'his', 'films.<br', '/><br', '/>I', 'do', 'commend', 'the', 'filmmakers', 'for', 'the', 'fact', 'that', 'any', 'sex', 'shown', 'in', 'the', 'film', 'is', 'shown', 'for', 'artistic', 'purposes', 'rather', 'than', 'just', 'to', 'shock', 'people', 'and', 'make', 'money', 'to', 'be', 'shown', 'in', 'pornographic', 'theaters', 'in', 'America', '.', 'I', 'AM', 'CURIOUS', '-', 'YELLOW', 'is', 'a', 'good', 'film', 'for', 'anyone', 'wanting', 'to', 'study', 'the', 'meat', 'and', 'potatoes', '(', 'no', 'pun', 'intended', ')', 'of', 'Swedish', 'cinema', '.', 'But', 'really', ',', 'this', 'film', \"doesn'\", 't', 'have', 'much', 'of', 'a', 'plot', '.']\n"
     ]
    }
   ],
   "source": [
    "for batch in imdb_dataloader_train:\n",
    "    print(batch[\"text\"][0][15:])\n",
    "    print(tokenize(batch[\"text\"][0][15:]))\n",
    "    break\n"
   ]
  },
  {
   "cell_type": "code",
   "execution_count": 7,
   "metadata": {},
   "outputs": [
    {
     "name": "stdout",
     "output_type": "stream",
     "text": [
      "1\n"
     ]
    },
    {
     "ename": "RuntimeError",
     "evalue": "Token out of vocab not found and default index is not set\nException raised from __getitem__ at /__w/text/text/pytorch/text/torchtext/csrc/vocab.cpp:43 (most recent call first):\nframe #0: c10::Error::Error(c10::SourceLocation, std::string) + 0x57 (0x7f24582b3617 in /home/payetquentin/Documents/workspace/briefs/s13_notebook/.env/lib/python3.11/site-packages/torch/lib/libc10.so)\nframe #1: c10::detail::torchCheckFail(char const*, char const*, unsigned int, std::string const&) + 0x64 (0x7f245826e98d in /home/payetquentin/Documents/workspace/briefs/s13_notebook/.env/lib/python3.11/site-packages/torch/lib/libc10.so)\nframe #2: torchtext::Vocab::__getitem__(c10::basic_string_view<char> const&) const + 0x384 (0x7f235ccc3444 in /home/payetquentin/Documents/workspace/briefs/s13_notebook/.env/lib/python3.11/site-packages/torchtext/lib/libtorchtext.so)\nframe #3: <unknown function> + 0x1df2b (0x7f235cfb8f2b in /home/payetquentin/Documents/workspace/briefs/s13_notebook/.env/lib/python3.11/site-packages/torchtext/_torchtext.so)\nframe #4: <unknown function> + 0x3e0b7 (0x7f235cfd90b7 in /home/payetquentin/Documents/workspace/briefs/s13_notebook/.env/lib/python3.11/site-packages/torchtext/_torchtext.so)\n<omitting python frames>\nframe #38: <unknown function> + 0x6886 (0x7f245d9af886 in /usr/lib/python3.11/lib-dynload/_asyncio.cpython-311-x86_64-linux-gnu.so)\nframe #54: <unknown function> + 0x27cd0 (0x7f245ea45cd0 in /usr/lib/libc.so.6)\nframe #55: __libc_start_main + 0x8a (0x7f245ea45d8a in /usr/lib/libc.so.6)\nframe #56: _start + 0x25 (0x55ae1286a045 in /home/payetquentin/Documents/workspace/briefs/s13_notebook/.env/bin/python)\n",
     "output_type": "error",
     "traceback": [
      "\u001b[0;31m---------------------------------------------------------------------------\u001b[0m",
      "\u001b[0;31mRuntimeError\u001b[0m                              Traceback (most recent call last)",
      "\u001b[1;32m/home/payetquentin/Documents/workspace/briefs/s13_notebook/labo0.ipynb Cell 7\u001b[0m line \u001b[0;36m8\n\u001b[1;32m      <a href='vscode-notebook-cell:/home/payetquentin/Documents/workspace/briefs/s13_notebook/labo0.ipynb#X11sZmlsZQ%3D%3D?line=5'>6</a>\u001b[0m v1 \u001b[39m=\u001b[39m vocab(ordered_dict)\n\u001b[1;32m      <a href='vscode-notebook-cell:/home/payetquentin/Documents/workspace/briefs/s13_notebook/labo0.ipynb#X11sZmlsZQ%3D%3D?line=6'>7</a>\u001b[0m \u001b[39mprint\u001b[39m(v1[\u001b[39m'\u001b[39m\u001b[39ma\u001b[39m\u001b[39m'\u001b[39m]) \u001b[39m#prints 1\u001b[39;00m\n\u001b[0;32m----> <a href='vscode-notebook-cell:/home/payetquentin/Documents/workspace/briefs/s13_notebook/labo0.ipynb#X11sZmlsZQ%3D%3D?line=7'>8</a>\u001b[0m \u001b[39mprint\u001b[39m(v1[\u001b[39m'\u001b[39;49m\u001b[39mout of vocab\u001b[39;49m\u001b[39m'\u001b[39;49m]) \u001b[39m#raise RuntimeError since default index is not set\u001b[39;00m\n\u001b[1;32m      <a href='vscode-notebook-cell:/home/payetquentin/Documents/workspace/briefs/s13_notebook/labo0.ipynb#X11sZmlsZQ%3D%3D?line=8'>9</a>\u001b[0m tokens \u001b[39m=\u001b[39m [\u001b[39m'\u001b[39m\u001b[39me\u001b[39m\u001b[39m'\u001b[39m, \u001b[39m'\u001b[39m\u001b[39md\u001b[39m\u001b[39m'\u001b[39m, \u001b[39m'\u001b[39m\u001b[39mc\u001b[39m\u001b[39m'\u001b[39m, \u001b[39m'\u001b[39m\u001b[39mb\u001b[39m\u001b[39m'\u001b[39m, \u001b[39m'\u001b[39m\u001b[39ma\u001b[39m\u001b[39m'\u001b[39m]\n\u001b[1;32m     <a href='vscode-notebook-cell:/home/payetquentin/Documents/workspace/briefs/s13_notebook/labo0.ipynb#X11sZmlsZQ%3D%3D?line=9'>10</a>\u001b[0m \u001b[39m#adding <unk> token and default index\u001b[39;00m\n",
      "File \u001b[0;32m~/Documents/workspace/briefs/s13_notebook/.env/lib/python3.11/site-packages/torchtext/vocab/vocab.py:65\u001b[0m, in \u001b[0;36mVocab.__getitem__\u001b[0;34m(self, token)\u001b[0m\n\u001b[1;32m     56\u001b[0m \u001b[39m@torch\u001b[39m\u001b[39m.\u001b[39mjit\u001b[39m.\u001b[39mexport\n\u001b[1;32m     57\u001b[0m \u001b[39mdef\u001b[39;00m \u001b[39m__getitem__\u001b[39m(\u001b[39mself\u001b[39m, token: \u001b[39mstr\u001b[39m) \u001b[39m-\u001b[39m\u001b[39m>\u001b[39m \u001b[39mint\u001b[39m:\n\u001b[1;32m     58\u001b[0m \u001b[39m    \u001b[39m\u001b[39mr\u001b[39m\u001b[39m\"\"\"\u001b[39;00m\n\u001b[1;32m     59\u001b[0m \u001b[39m    Args:\u001b[39;00m\n\u001b[1;32m     60\u001b[0m \u001b[39m        token: The token used to lookup the corresponding index.\u001b[39;00m\n\u001b[0;32m   (...)\u001b[0m\n\u001b[1;32m     63\u001b[0m \u001b[39m        The index corresponding to the associated token.\u001b[39;00m\n\u001b[1;32m     64\u001b[0m \u001b[39m    \"\"\"\u001b[39;00m\n\u001b[0;32m---> 65\u001b[0m     \u001b[39mreturn\u001b[39;00m \u001b[39mself\u001b[39;49m\u001b[39m.\u001b[39;49mvocab[token]\n",
      "\u001b[0;31mRuntimeError\u001b[0m: Token out of vocab not found and default index is not set\nException raised from __getitem__ at /__w/text/text/pytorch/text/torchtext/csrc/vocab.cpp:43 (most recent call first):\nframe #0: c10::Error::Error(c10::SourceLocation, std::string) + 0x57 (0x7f24582b3617 in /home/payetquentin/Documents/workspace/briefs/s13_notebook/.env/lib/python3.11/site-packages/torch/lib/libc10.so)\nframe #1: c10::detail::torchCheckFail(char const*, char const*, unsigned int, std::string const&) + 0x64 (0x7f245826e98d in /home/payetquentin/Documents/workspace/briefs/s13_notebook/.env/lib/python3.11/site-packages/torch/lib/libc10.so)\nframe #2: torchtext::Vocab::__getitem__(c10::basic_string_view<char> const&) const + 0x384 (0x7f235ccc3444 in /home/payetquentin/Documents/workspace/briefs/s13_notebook/.env/lib/python3.11/site-packages/torchtext/lib/libtorchtext.so)\nframe #3: <unknown function> + 0x1df2b (0x7f235cfb8f2b in /home/payetquentin/Documents/workspace/briefs/s13_notebook/.env/lib/python3.11/site-packages/torchtext/_torchtext.so)\nframe #4: <unknown function> + 0x3e0b7 (0x7f235cfd90b7 in /home/payetquentin/Documents/workspace/briefs/s13_notebook/.env/lib/python3.11/site-packages/torchtext/_torchtext.so)\n<omitting python frames>\nframe #38: <unknown function> + 0x6886 (0x7f245d9af886 in /usr/lib/python3.11/lib-dynload/_asyncio.cpython-311-x86_64-linux-gnu.so)\nframe #54: <unknown function> + 0x27cd0 (0x7f245ea45cd0 in /usr/lib/libc.so.6)\nframe #55: __libc_start_main + 0x8a (0x7f245ea45d8a in /usr/lib/libc.so.6)\nframe #56: _start + 0x25 (0x55ae1286a045 in /home/payetquentin/Documents/workspace/briefs/s13_notebook/.env/bin/python)\n"
     ]
    }
   ],
   "source": []
  }
 ],
 "metadata": {
  "kernelspec": {
   "display_name": ".env",
   "language": "python",
   "name": "python3"
  },
  "language_info": {
   "codemirror_mode": {
    "name": "ipython",
    "version": 3
   },
   "file_extension": ".py",
   "mimetype": "text/x-python",
   "name": "python",
   "nbconvert_exporter": "python",
   "pygments_lexer": "ipython3",
   "version": "3.11.5"
  }
 },
 "nbformat": 4,
 "nbformat_minor": 2
}
