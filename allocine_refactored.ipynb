{
 "cells": [
  {
   "cell_type": "code",
   "execution_count": 1,
   "metadata": {},
   "outputs": [],
   "source": [
    "import requests\n",
    "from bs4 import BeautifulSoup\n",
    "import time"
   ]
  },
  {
   "cell_type": "code",
   "execution_count": 2,
   "metadata": {},
   "outputs": [],
   "source": [
    "def save_in_file(items, file_name):\n",
    "    file = open(file_name, \"w\")\n",
    "    for item in items:\n",
    "        file.write(item + \"<myCustomTag>\")\n",
    "    file.close()\n",
    "\n",
    "def get_from_files(file_name):\n",
    "    file = open(file_name, \"r\")\n",
    "    items = file.read().split(\"<myCustomTag>\")\n",
    "    file.close()\n",
    "\n",
    "    return items[:-1]"
   ]
  },
  {
   "cell_type": "code",
   "execution_count": 3,
   "metadata": {},
   "outputs": [],
   "source": [
    "def get_parsed_page(url):\n",
    "    page = requests.get(url)\n",
    "    return BeautifulSoup(page.text, 'html.parser')\n",
    "\n",
    "def get_movie_ids(parsed_page, film_ids):\n",
    "    films_links = parsed_page.find_all('a', class_='meta-title-link')\n",
    "    for film_link in films_links:\n",
    "        film_ids.append(film_link['href'].split('cfilm=')[1].split('.')[0])\n",
    "    \n",
    "    return film_ids\n",
    "\n",
    "def get_top_20_movies_ids():\n",
    "    base_URL = \"https://www.allocine.fr/film/meilleurs/\"\n",
    "    parsed_page = get_parsed_page(base_URL)\n",
    "\n",
    "    films_ids = []\n",
    "    films_ids = get_movie_ids(parsed_page, films_ids)\n",
    "\n",
    "    second_parsed_page = get_parsed_page(f\"{base_URL}?page={2}\")\n",
    "\n",
    "    films_ids = get_movie_ids(second_parsed_page, films_ids)\n",
    "    # films_links = parsed_page.find_all('a', class_='meta-title-link')\n",
    "    # for film_link in films_links:\n",
    "    #     films_ids.append(film_link['href'].split('cfilm=')[1].split('.')[0])\n",
    "    \n",
    "    return films_ids\n",
    "\n",
    "def get_all_comments_page_links(parsed_page, URL):\n",
    "    pagination = parsed_page.find('nav', class_='pagination')\n",
    "    if pagination:\n",
    "        last_page_element = pagination.find_all(['a', 'span'], class_='item')[-1]\n",
    "        # last_page_link = last_page_element['href'] if last_page_element.name == 'a' else URL\n",
    "        last_page_number = int(last_page_element.get_text())\n",
    "        pages_urls = [f\"{URL}?page={page}\" for page in range(1, last_page_number + 1)]\n",
    "    else:\n",
    "        pages_urls = [URL]\n",
    "\n",
    "    return pages_urls\n",
    "\n",
    "def get_comments(parsed_page):\n",
    "    comments = []\n",
    "    for review in parsed_page.find_all('div', class_='content-txt review-card-content'):\n",
    "        for spoiler in review.find_all('span', class_='spoiler-header'):\n",
    "            spoiler.extract()\n",
    "\n",
    "        comments.append(review.get_text(strip=True))\n",
    "    \n",
    "    return comments\n",
    "\n",
    "def get_ratings(parsed_page):\n",
    "        ratings = []\n",
    "        # Récupérer les notes\n",
    "        for review in parsed_page.find_all(\"div\", class_=\"review-card-review-holder\"):\n",
    "            ratings.append(review.find(\"span\", class_=\"stareval-note\").get_text())\n",
    "        \n",
    "        return ratings\n",
    "\n",
    "def scrap_comments(film_id):\n",
    "    URL = f\"https://www.allocine.fr/film/fichefilm-{film_id}/critiques/spectateurs/\"\n",
    "    parsed_movie_page = get_parsed_page(URL)\n",
    "\n",
    "    pages_urls = get_all_comments_page_links(parsed_movie_page, URL)\n",
    "\n",
    "    movie_comments = []\n",
    "    movie_ratings = []\n",
    "    page_number = 1\n",
    "    for page_url in pages_urls:\n",
    "        page_number+=1\n",
    "        \n",
    "        time.sleep(1)  # Attendre 1 seconde avant de faire la prochaine requête\n",
    "        parsed_page = get_parsed_page(page_url)\n",
    "\n",
    "        comments = get_comments(parsed_page)\n",
    "        for comment in comments:\n",
    "            movie_comments.append(comment)\n",
    "        \n",
    "        ratings = get_ratings(parsed_page)\n",
    "        for rating in ratings:\n",
    "            movie_ratings.append(rating)\n",
    "\n",
    "        if(len(ratings) != len(comments)):\n",
    "            print(\"=========================\")\n",
    "\n",
    "    return movie_comments, movie_ratings\n",
    "\n",
    "\n",
    "\n"
   ]
  },
  {
   "cell_type": "code",
   "execution_count": 4,
   "metadata": {},
   "outputs": [
    {
     "name": "stdout",
     "output_type": "stream",
     "text": [
      "20\n",
      "['10568', '9393', '22779', '4063', '1628', '11736', '39187', '10862', '2072', '115362', '2021', '10126', '19395', '1941', '114782', '24944', '190918', '27070', '39186', '135063']\n",
      "0\n",
      "1\n",
      "2\n",
      "3\n",
      "4\n",
      "5\n",
      "6\n",
      "7\n",
      "8\n",
      "9\n",
      "10\n",
      "11\n",
      "12\n",
      "13\n",
      "14\n",
      "15\n",
      "16\n",
      "17\n",
      "18\n",
      "19\n"
     ]
    }
   ],
   "source": [
    "film_ids = get_top_20_movies_ids()\n",
    "print(len(film_ids))\n",
    "print(film_ids)\n",
    "all_comments = []\n",
    "all_ratings = []\n",
    "i = 0\n",
    "for film_id in film_ids:\n",
    "    print(i)\n",
    "    i+=1\n",
    "    movie_comments, movie_ratings = scrap_comments(film_id)\n",
    "\n",
    "    for movie_comment in movie_comments:\n",
    "        all_comments.append(movie_comment)\n",
    "    for movie_rating in movie_ratings:\n",
    "        all_ratings.append(movie_rating)\n",
    "    \n",
    "    # break # TODO: Scrap all\n",
    "save_in_file(all_comments, \"full_scrapped_movie_comments.txt\")\n",
    "save_in_file(all_ratings, \"full_scrapped_movie_ratings.txt\")\n"
   ]
  },
  {
   "cell_type": "code",
   "execution_count": 5,
   "metadata": {},
   "outputs": [
    {
     "data": {
      "text/plain": [
       "43383"
      ]
     },
     "execution_count": 5,
     "metadata": {},
     "output_type": "execute_result"
    }
   ],
   "source": [
    "binaryRating = []\n",
    "for rating in get_from_files(\"full_scrapped_movie_ratings.txt\"):\n",
    "    if rating.split(\",\")[0] in [\"3\",\"4\",\"5\"]:\n",
    "        binaryRating.append(1)\n",
    "    else :\n",
    "        binaryRating.append(0)\n",
    "\n",
    "len(binaryRating)\n"
   ]
  }
 ],
 "metadata": {
  "kernelspec": {
   "display_name": ".env",
   "language": "python",
   "name": "python3"
  },
  "language_info": {
   "codemirror_mode": {
    "name": "ipython",
    "version": 3
   },
   "file_extension": ".py",
   "mimetype": "text/x-python",
   "name": "python",
   "nbconvert_exporter": "python",
   "pygments_lexer": "ipython3",
   "version": "3.9.18"
  }
 },
 "nbformat": 4,
 "nbformat_minor": 2
}
